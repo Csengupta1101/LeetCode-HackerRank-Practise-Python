{
 "cells": [
  {
   "cell_type": "markdown",
   "id": "65ea6787",
   "metadata": {},
   "source": [
    "## List\n",
    "\n",
    "(list = []). \n",
    "\n",
    "You can perform the following commands:\n",
    "\n",
    "1. insert i e: Insert integer  at position .\n",
    "2. print: Print the list.\n",
    "3. remove e: Delete the first occurrence of integer .\n",
    "4. append e: Insert integer  at the end of the list.\n",
    "5. sort: Sort the list.\n",
    "6. pop: Pop the last element from the list.\n",
    "7. reverse: Reverse the list.\n",
    "\n",
    "Initialize your list and read in the value of  followed by  lines of commands where each command will be of the  types listed above. Iterate through each command in order and perform the corresponding operation on your list."
   ]
  },
  {
   "cell_type": "markdown",
   "id": "d0f7b7ca",
   "metadata": {},
   "source": [
    "In here the first user input will denote the number of operations we will perform with the list. Operations as in given 'insert' , 'print' , 'remove' etc. As we will run the program on a given number of time , hence we will need a for loop for the same.\n",
    "\n",
    "Now inside our for loop we will provide one constant variable that will take all operation input within it. Let's call it cmd. Then we will split the input and it will be of string type. \n",
    "\n",
    "The 0th index after splitting will denote the operation such as ' insert ' , 'delete' etc and the '1' , '2' indexes (wherever applicable) will define the user input value and it's new position respectively on the array output."
   ]
  },
  {
   "cell_type": "code",
   "execution_count": 3,
   "id": "c6588d73",
   "metadata": {},
   "outputs": [
    {
     "name": "stdout",
     "output_type": "stream",
     "text": [
      "1\n",
      "append 1 5\n"
     ]
    }
   ],
   "source": [
    "lst = []\n",
    "ui = int(input())\n",
    "for i in range(ui):\n",
    "    cmd = input().split()\n",
    "    if cmd[0]=='insert':\n",
    "        lst.insert((int(cmd[1])),(int(cmd[2])))\n",
    "    elif cmd[0]=='print':\n",
    "        print(lst)\n",
    "    elif cmd[0]=='remove':\n",
    "        lst.remove(int(cmd[1]))\n",
    "    elif cmd[0]=='append':\n",
    "        lst.append(int(cmd[1]))\n",
    "    elif cmd[0]=='sort':\n",
    "        lst.sort()\n",
    "    elif cmd[0]=='pop':\n",
    "        lst.pop(int(cmd[1]))\n",
    "    else:\n",
    "        lst.reverse()"
   ]
  },
  {
   "cell_type": "markdown",
   "id": "d7607450",
   "metadata": {},
   "source": [
    "## Hacker Rank accepted solution"
   ]
  },
  {
   "cell_type": "code",
   "execution_count": null,
   "id": "eae98747",
   "metadata": {},
   "outputs": [],
   "source": [
    "lst = []\n",
    "ui = int(input())\n",
    "for i in range(ui):\n",
    "    cmd = input().split()\n",
    "    if cmd[0]=='insert':\n",
    "        lst.insert(int(cmd[1]),int(cmd[2]))\n",
    "    elif cmd[0]=='print':\n",
    "        print(lst)\n",
    "    elif cmd[0]=='remove':\n",
    "        lst.remove(int(cmd[1]))\n",
    "    elif cmd[0]=='append':\n",
    "        lst.append(int(cmd[1]))\n",
    "    elif cmd[0]=='sort':\n",
    "        lst.sort()\n",
    "    elif cmd[0]=='pop':\n",
    "        lst.pop()\n",
    "    elif cmd[0]=='reverse':\n",
    "        lst.reverse()"
   ]
  }
 ],
 "metadata": {
  "kernelspec": {
   "display_name": "Python 3",
   "language": "python",
   "name": "python3"
  },
  "language_info": {
   "codemirror_mode": {
    "name": "ipython",
    "version": 3
   },
   "file_extension": ".py",
   "mimetype": "text/x-python",
   "name": "python",
   "nbconvert_exporter": "python",
   "pygments_lexer": "ipython3",
   "version": "3.6.8"
  }
 },
 "nbformat": 4,
 "nbformat_minor": 5
}
