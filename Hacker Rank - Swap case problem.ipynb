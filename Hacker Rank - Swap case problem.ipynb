{
 "cells": [
  {
   "cell_type": "markdown",
   "id": "95b987e4",
   "metadata": {},
   "source": [
    "## Swap Case\n",
    "\n",
    "You are given a string and your task is to swap cases. In other words, convert all lowercase letters to uppercase letters and vice versa.\n",
    "\n",
    "Function Description\n",
    "\n",
    "Complete the swap_case function in the editor below.\n",
    "\n",
    "swap_case has the following parameters:\n",
    "\n",
    "string s: the string to modify\n",
    "Returns\n",
    "\n",
    "string: the modified string\n",
    "Input Format\n",
    "\n",
    "A single line containing a string 's'"
   ]
  },
  {
   "cell_type": "markdown",
   "id": "d2dcae89",
   "metadata": {},
   "source": [
    "#### Standard hacker rank input\n",
    "\n",
    "for reusability of the code \"__if__ = __main__ \" is used here. Our function will be outside of that. Will simply use the swapcase string method to swap the upper cases into lower and vice versa as the result."
   ]
  },
  {
   "cell_type": "code",
   "execution_count": 1,
   "id": "91a07594",
   "metadata": {},
   "outputs": [
    {
     "name": "stdout",
     "output_type": "stream",
     "text": [
      "chanDan SeNgupta\n",
      "CHANdAN sEnGUPTA\n"
     ]
    }
   ],
   "source": [
    "def swap_case(n):\n",
    "    return n.swapcase()\n",
    "if __name__ == '__main__':\n",
    "    s = input()\n",
    "    result = swap_case(s)\n",
    "    print(result)"
   ]
  },
  {
   "cell_type": "code",
   "execution_count": null,
   "id": "858889c6",
   "metadata": {},
   "outputs": [],
   "source": []
  }
 ],
 "metadata": {
  "kernelspec": {
   "display_name": "Python 3",
   "language": "python",
   "name": "python3"
  },
  "language_info": {
   "codemirror_mode": {
    "name": "ipython",
    "version": 3
   },
   "file_extension": ".py",
   "mimetype": "text/x-python",
   "name": "python",
   "nbconvert_exporter": "python",
   "pygments_lexer": "ipython3",
   "version": "3.6.8"
  }
 },
 "nbformat": 4,
 "nbformat_minor": 5
}
