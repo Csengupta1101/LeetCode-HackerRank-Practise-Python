{
 "cells": [
  {
   "cell_type": "markdown",
   "id": "788b9148",
   "metadata": {},
   "source": [
    "## String Mutation\n",
    "\n",
    "In this problem we are trying to solve the issue of mutation. As we know that python lists are mutable hence we are approaching an algorithm that will take user input into consideration and will proceed to change the character in the given index.\n",
    "\n",
    "1. initially to convert the string into a list , we are creating a list called lst.\n",
    "2. Then we are converting the string into a list by assiging the string elements/characters in the list with indexing as lst[:0]. This is how all characters in the strings are becoming individual list items.\n",
    "3. Now we are placing the value on the given position in the list , again using indexing.\n",
    "4. Now to convert the list into a string we are again creating a string called 'pstr. As our converted string will have no space in between hence places between \"\" is not given.\n",
    "5. now we are returning the list as a string using the join function , joining each element of the list called (lst)"
   ]
  },
  {
   "cell_type": "code",
   "execution_count": 9,
   "id": "a685e435",
   "metadata": {},
   "outputs": [
    {
     "name": "stdout",
     "output_type": "stream",
     "text": [
      "abhsng\n",
      "5 k\n",
      "abhsnk\n"
     ]
    }
   ],
   "source": [
    "def mutate_string(string, position, character):\n",
    "    lst = []\n",
    "    lst[:0]=string\n",
    "    lst[int(position)] = character\n",
    "    pstr = \"\"\n",
    "    return (pstr.join(lst))\n",
    "    \n",
    "\n",
    "if __name__ == '__main__':\n",
    "    s = input()\n",
    "    i, c = input().split()\n",
    "    s_new = mutate_string(s, int(i), c)\n",
    "    print(s_new)"
   ]
  },
  {
   "cell_type": "code",
   "execution_count": null,
   "id": "15374116",
   "metadata": {},
   "outputs": [],
   "source": []
  },
  {
   "cell_type": "code",
   "execution_count": null,
   "id": "7d7cd0bf",
   "metadata": {},
   "outputs": [],
   "source": []
  }
 ],
 "metadata": {
  "kernelspec": {
   "display_name": "Python 3",
   "language": "python",
   "name": "python3"
  },
  "language_info": {
   "codemirror_mode": {
    "name": "ipython",
    "version": 3
   },
   "file_extension": ".py",
   "mimetype": "text/x-python",
   "name": "python",
   "nbconvert_exporter": "python",
   "pygments_lexer": "ipython3",
   "version": "3.6.8"
  }
 },
 "nbformat": 4,
 "nbformat_minor": 5
}
