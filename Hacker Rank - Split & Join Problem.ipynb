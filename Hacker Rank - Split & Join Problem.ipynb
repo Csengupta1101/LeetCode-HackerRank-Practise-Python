{
 "cells": [
  {
   "cell_type": "markdown",
   "id": "361c2aab",
   "metadata": {},
   "source": [
    "## Task\n",
    "You are given a string. Split the string on a \" \" (space) delimiter and join using a - hyphen.\n",
    "#### Function Description\n",
    "Complete the split_and_join function in the editor below.\n",
    "#### split_and_join has the following parameters:\n",
    "string line: a string of space-separated words\n",
    "#### Returns\n",
    "string: the resulting string\n",
    "#### Input Format\n",
    "The one line contains a string consisting of space separated words."
   ]
  },
  {
   "cell_type": "markdown",
   "id": "52c94974",
   "metadata": {},
   "source": [
    "As given input , we are creating a function named split and join , x variable is being split and joined with \"-\" and being returned."
   ]
  },
  {
   "cell_type": "code",
   "execution_count": 1,
   "id": "656554fb",
   "metadata": {},
   "outputs": [
    {
     "name": "stdout",
     "output_type": "stream",
     "text": [
      "this is harry\n",
      "this-is-harry\n"
     ]
    }
   ],
   "source": [
    "def split_and_join(line):\n",
    "    x = line.split()\n",
    "    x = \"-\".join(x)\n",
    "    return x\n",
    "    # write your code here\n",
    "\n",
    "if __name__ == '__main__':\n",
    "    line = input()\n",
    "    result = split_and_join(line)\n",
    "    print(result)"
   ]
  },
  {
   "cell_type": "code",
   "execution_count": null,
   "id": "90f12f81",
   "metadata": {},
   "outputs": [],
   "source": []
  }
 ],
 "metadata": {
  "kernelspec": {
   "display_name": "Python 3",
   "language": "python",
   "name": "python3"
  },
  "language_info": {
   "codemirror_mode": {
    "name": "ipython",
    "version": 3
   },
   "file_extension": ".py",
   "mimetype": "text/x-python",
   "name": "python",
   "nbconvert_exporter": "python",
   "pygments_lexer": "ipython3",
   "version": "3.6.8"
  }
 },
 "nbformat": 4,
 "nbformat_minor": 5
}
