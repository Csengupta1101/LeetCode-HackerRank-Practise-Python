{
 "cells": [
  {
   "cell_type": "markdown",
   "id": "06ae998e",
   "metadata": {},
   "source": [
    "### Has Value\n",
    "\n",
    "Hash values can be thought of as fingerprints for files. The contents of a file are processed through a cryptographic algorithm, and a unique numerical value – the hash value - is produced that identifies the contents of the file. If the contents are modified in any way, the value of the hash will also change significantly. Two algorithms are currently widely used to produce hash values: the MD5 and SHA1 algorithms."
   ]
  },
  {
   "cell_type": "markdown",
   "id": "a46ad6d6",
   "metadata": {},
   "source": [
    "#### Task\n",
    "\n",
    "n denotes the number of input to be taken by the user.\n",
    "t creates a tuple after splitting the user inputs separately and map them into integer type. The number of inputs should be equal as n\n",
    "then hash value of t is printed."
   ]
  },
  {
   "cell_type": "code",
   "execution_count": 5,
   "id": "7b0925ea",
   "metadata": {},
   "outputs": [
    {
     "name": "stdout",
     "output_type": "stream",
     "text": [
      "2\n",
      "1236\n",
      "3429046384639\n"
     ]
    }
   ],
   "source": [
    "n = int(input())\n",
    "t = tuple(map(int,input().split()))\n",
    "print(hash(t))"
   ]
  },
  {
   "cell_type": "code",
   "execution_count": null,
   "id": "0a23d2fa",
   "metadata": {},
   "outputs": [],
   "source": []
  }
 ],
 "metadata": {
  "kernelspec": {
   "display_name": "Python 3",
   "language": "python",
   "name": "python3"
  },
  "language_info": {
   "codemirror_mode": {
    "name": "ipython",
    "version": 3
   },
   "file_extension": ".py",
   "mimetype": "text/x-python",
   "name": "python",
   "nbconvert_exporter": "python",
   "pygments_lexer": "ipython3",
   "version": "3.6.8"
  }
 },
 "nbformat": 4,
 "nbformat_minor": 5
}
